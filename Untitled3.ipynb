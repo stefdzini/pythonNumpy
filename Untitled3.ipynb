{
 "cells": [
  {
   "cell_type": "markdown",
   "id": "c41efb44",
   "metadata": {},
   "source": [
    "# Задание 1. Импортируйте библиотеку Numpy и дайте ей псевдоним np\n",
    "Создайте массив Numpy под названием a размером 5x2, то есть состоящий из 5 строк и 2 столбцов. Первый столбец должен содержать числа 1, 2, 3, 3, 1, а второй - числа 6, 8, 11, 10, 7. Будем считать, что каждый столбец - это признак, а строка - наблюдение. Затем найдите среднее значение по каждому признаку, используя метод mean массива Numpy. Результат запишите в массив mean_a, в нем должно быть 2 элемента."
   ]
  },
  {
   "cell_type": "code",
   "execution_count": 1,
   "id": "30f9d0a3",
   "metadata": {},
   "outputs": [],
   "source": [
    "import numpy as np"
   ]
  },
  {
   "cell_type": "code",
   "execution_count": 2,
   "id": "fae582e7",
   "metadata": {},
   "outputs": [],
   "source": [
    "a=np.array ([[1,6],\n",
    "             [2,8],\n",
    "             [3,11],\n",
    "             [3, 10],\n",
    "             [1, 7]])"
   ]
  },
  {
   "cell_type": "code",
   "execution_count": 3,
   "id": "15e430cc",
   "metadata": {},
   "outputs": [
    {
     "data": {
      "text/plain": [
       "array([[ 1,  6],\n",
       "       [ 2,  8],\n",
       "       [ 3, 11],\n",
       "       [ 3, 10],\n",
       "       [ 1,  7]])"
      ]
     },
     "execution_count": 3,
     "metadata": {},
     "output_type": "execute_result"
    }
   ],
   "source": [
    "a"
   ]
  },
  {
   "cell_type": "code",
   "execution_count": 4,
   "id": "e2fb18f5",
   "metadata": {},
   "outputs": [],
   "source": [
    "mean_a=a.mean(axis= 0)"
   ]
  },
  {
   "cell_type": "code",
   "execution_count": 5,
   "id": "bf5dfce1",
   "metadata": {},
   "outputs": [
    {
     "data": {
      "text/plain": [
       "array([2. , 8.4])"
      ]
     },
     "execution_count": 5,
     "metadata": {},
     "output_type": "execute_result"
    }
   ],
   "source": [
    "mean_a"
   ]
  },
  {
   "cell_type": "markdown",
   "id": "638c98f5",
   "metadata": {},
   "source": [
    "# # Задание 2\n",
    "Вычислите массив a_centered, отняв от значений массива “а” средние значения соответствующих признаков, содержащиеся в массиве mean_a. Вычисление должно производиться в одно действие. Получившийся массив должен иметь размер 5x2.\n"
   ]
  },
  {
   "cell_type": "code",
   "execution_count": 6,
   "id": "8fec9ef0",
   "metadata": {},
   "outputs": [],
   "source": [
    "a_centered=np.subtract(a, mean_a)"
   ]
  },
  {
   "cell_type": "code",
   "execution_count": 7,
   "id": "01ccaf05",
   "metadata": {},
   "outputs": [
    {
     "data": {
      "text/plain": [
       "array([[-1. , -2.4],\n",
       "       [ 0. , -0.4],\n",
       "       [ 1. ,  2.6],\n",
       "       [ 1. ,  1.6],\n",
       "       [-1. , -1.4]])"
      ]
     },
     "execution_count": 7,
     "metadata": {},
     "output_type": "execute_result"
    }
   ],
   "source": [
    "a_centered"
   ]
  },
  {
   "cell_type": "markdown",
   "id": "91bc2fdd",
   "metadata": {},
   "source": [
    "# Задание 3\n",
    "Найдите скалярное произведение столбцов массива a_centered. В результате должна получиться величина a_centered_sp. Затем поделите a_centered_sp на N-1, где N - число наблюдений.\n"
   ]
  },
  {
   "cell_type": "code",
   "execution_count": 8,
   "id": "25790c44",
   "metadata": {},
   "outputs": [
    {
     "data": {
      "text/plain": [
       "8.0"
      ]
     },
     "execution_count": 8,
     "metadata": {},
     "output_type": "execute_result"
    }
   ],
   "source": [
    "a1=a_centered[:,0]\n",
    "a2=a_centered[:,1]\n",
    "a_centered_sp=np.dot(a1,a2)\n",
    "a_centered_sp"
   ]
  },
  {
   "cell_type": "code",
   "execution_count": 9,
   "id": "9f53e602",
   "metadata": {},
   "outputs": [
    {
     "data": {
      "text/plain": [
       "5"
      ]
     },
     "execution_count": 9,
     "metadata": {},
     "output_type": "execute_result"
    }
   ],
   "source": [
    "N=a.shape[0]\n",
    "N"
   ]
  },
  {
   "cell_type": "code",
   "execution_count": 10,
   "id": "230070a4",
   "metadata": {},
   "outputs": [
    {
     "data": {
      "text/plain": [
       "2.0"
      ]
     },
     "execution_count": 10,
     "metadata": {},
     "output_type": "execute_result"
    }
   ],
   "source": [
    "my_cov=a_centered_sp/(N-1)\n",
    "my_cov"
   ]
  },
  {
   "cell_type": "markdown",
   "id": "7d3a0ea2",
   "metadata": {},
   "source": [
    "# Задание 4.\n",
    "В этом задании проверьте получившееся число, вычислив ковариацию еще одним способом - с помощью функции np.cov. "
   ]
  },
  {
   "cell_type": "code",
   "execution_count": 11,
   "id": "4f47b766",
   "metadata": {},
   "outputs": [
    {
     "data": {
      "text/plain": [
       "array([[1. , 2. ],\n",
       "       [2. , 4.3]])"
      ]
     },
     "execution_count": 11,
     "metadata": {},
     "output_type": "execute_result"
    }
   ],
   "source": [
    "np.cov(a.transpose())"
   ]
  },
  {
   "cell_type": "markdown",
   "id": "ef562216",
   "metadata": {},
   "source": [
    "# Задание 1\n",
    "Импортируйте библиотеку Pandas и дайте ей псевдоним pd. Создайте датафрейм authors со столбцами author_id и author_name, в которых соответственно содержатся данные: [1, 2, 3] и ['Тургенев', 'Чехов', 'Островский'].\n"
   ]
  },
  {
   "cell_type": "code",
   "execution_count": 12,
   "id": "3ff14176",
   "metadata": {},
   "outputs": [],
   "source": [
    "import pandas as pd"
   ]
  },
  {
   "cell_type": "code",
   "execution_count": 14,
   "id": "87122753",
   "metadata": {},
   "outputs": [
    {
     "data": {
      "text/html": [
       "<div>\n",
       "<style scoped>\n",
       "    .dataframe tbody tr th:only-of-type {\n",
       "        vertical-align: middle;\n",
       "    }\n",
       "\n",
       "    .dataframe tbody tr th {\n",
       "        vertical-align: top;\n",
       "    }\n",
       "\n",
       "    .dataframe thead th {\n",
       "        text-align: right;\n",
       "    }\n",
       "</style>\n",
       "<table border=\"1\" class=\"dataframe\">\n",
       "  <thead>\n",
       "    <tr style=\"text-align: right;\">\n",
       "      <th></th>\n",
       "      <th>author_id</th>\n",
       "      <th>author_name</th>\n",
       "    </tr>\n",
       "  </thead>\n",
       "  <tbody>\n",
       "    <tr>\n",
       "      <th>0</th>\n",
       "      <td>1</td>\n",
       "      <td>Тургенев</td>\n",
       "    </tr>\n",
       "    <tr>\n",
       "      <th>1</th>\n",
       "      <td>2</td>\n",
       "      <td>Чехов</td>\n",
       "    </tr>\n",
       "    <tr>\n",
       "      <th>2</th>\n",
       "      <td>3</td>\n",
       "      <td>Островский</td>\n",
       "    </tr>\n",
       "  </tbody>\n",
       "</table>\n",
       "</div>"
      ],
      "text/plain": [
       "   author_id author_name\n",
       "0          1    Тургенев\n",
       "1          2       Чехов\n",
       "2          3  Островский"
      ]
     },
     "execution_count": 14,
     "metadata": {},
     "output_type": "execute_result"
    }
   ],
   "source": [
    "authors = pd.DataFrame ({'author_id':[1,2,3],\n",
    "                        'author_name':['Тургенев', 'Чехов','Островский']},\n",
    "                       columns=['author_id','author_name'])\n",
    "authors"
   ]
  },
  {
   "cell_type": "markdown",
   "id": "270a5690",
   "metadata": {},
   "source": [
    "# 1\n",
    "Затем создайте датафрейм book cо столбцами author_id, book_title и price, в которых соответственно содержатся данные:  \n",
    "[1, 1, 1, 2, 2, 3, 3],\n",
    "['Отцы и дети', 'Рудин', 'Дворянское гнездо', 'Толстый и тонкий', 'Дама с собачкой', 'Гроза', 'Таланты и поклонники'],\n",
    "[450, 300, 350, 500, 450, 370, 290].\n"
   ]
  },
  {
   "cell_type": "code",
   "execution_count": 15,
   "id": "825e2208",
   "metadata": {},
   "outputs": [
    {
     "data": {
      "text/html": [
       "<div>\n",
       "<style scoped>\n",
       "    .dataframe tbody tr th:only-of-type {\n",
       "        vertical-align: middle;\n",
       "    }\n",
       "\n",
       "    .dataframe tbody tr th {\n",
       "        vertical-align: top;\n",
       "    }\n",
       "\n",
       "    .dataframe thead th {\n",
       "        text-align: right;\n",
       "    }\n",
       "</style>\n",
       "<table border=\"1\" class=\"dataframe\">\n",
       "  <thead>\n",
       "    <tr style=\"text-align: right;\">\n",
       "      <th></th>\n",
       "      <th>author_id</th>\n",
       "      <th>book_title</th>\n",
       "      <th>price</th>\n",
       "    </tr>\n",
       "  </thead>\n",
       "  <tbody>\n",
       "    <tr>\n",
       "      <th>0</th>\n",
       "      <td>1</td>\n",
       "      <td>Отцы и дети</td>\n",
       "      <td>450</td>\n",
       "    </tr>\n",
       "    <tr>\n",
       "      <th>1</th>\n",
       "      <td>1</td>\n",
       "      <td>Рудин</td>\n",
       "      <td>300</td>\n",
       "    </tr>\n",
       "    <tr>\n",
       "      <th>2</th>\n",
       "      <td>1</td>\n",
       "      <td>Дворянское гнездо</td>\n",
       "      <td>350</td>\n",
       "    </tr>\n",
       "    <tr>\n",
       "      <th>3</th>\n",
       "      <td>2</td>\n",
       "      <td>Толстый и тонкий</td>\n",
       "      <td>500</td>\n",
       "    </tr>\n",
       "    <tr>\n",
       "      <th>4</th>\n",
       "      <td>2</td>\n",
       "      <td>Дама с собачкой</td>\n",
       "      <td>450</td>\n",
       "    </tr>\n",
       "    <tr>\n",
       "      <th>5</th>\n",
       "      <td>3</td>\n",
       "      <td>Гроза</td>\n",
       "      <td>370</td>\n",
       "    </tr>\n",
       "    <tr>\n",
       "      <th>6</th>\n",
       "      <td>3</td>\n",
       "      <td>Таланты и поклонники</td>\n",
       "      <td>290</td>\n",
       "    </tr>\n",
       "  </tbody>\n",
       "</table>\n",
       "</div>"
      ],
      "text/plain": [
       "   author_id            book_title  price\n",
       "0          1           Отцы и дети    450\n",
       "1          1                 Рудин    300\n",
       "2          1     Дворянское гнездо    350\n",
       "3          2      Толстый и тонкий    500\n",
       "4          2       Дама с собачкой    450\n",
       "5          3                 Гроза    370\n",
       "6          3  Таланты и поклонники    290"
      ]
     },
     "execution_count": 15,
     "metadata": {},
     "output_type": "execute_result"
    }
   ],
   "source": [
    "books = pd.DataFrame ({'author_id':[1,1,1,2,2,3,3],\n",
    "                        'book_title':['Отцы и дети', 'Рудин','Дворянское гнездо', 'Толстый и тонкий', 'Дама с собачкой', 'Гроза', 'Таланты и поклонники'],\n",
    "                      'price':[450, 300, 350, 500, 450, 370, 290]},\n",
    "                       columns=['author_id','book_title','price'])\n",
    "books"
   ]
  },
  {
   "cell_type": "markdown",
   "id": "f06677e9",
   "metadata": {},
   "source": [
    "# "
   ]
  }
 ],
 "metadata": {
  "kernelspec": {
   "display_name": "Python 3 (ipykernel)",
   "language": "python",
   "name": "python3"
  },
  "language_info": {
   "codemirror_mode": {
    "name": "ipython",
    "version": 3
   },
   "file_extension": ".py",
   "mimetype": "text/x-python",
   "name": "python",
   "nbconvert_exporter": "python",
   "pygments_lexer": "ipython3",
   "version": "3.9.13"
  }
 },
 "nbformat": 4,
 "nbformat_minor": 5
}
